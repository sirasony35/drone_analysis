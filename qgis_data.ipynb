{
 "cells": [
  {
   "cell_type": "code",
   "id": "initial_id",
   "metadata": {
    "collapsed": true,
    "ExecuteTime": {
     "end_time": "2025-09-06T14:23:36.255633Z",
     "start_time": "2025-09-06T14:23:36.251268Z"
    }
   },
   "source": [
    "# -*- coding: utf-8 -*-\n",
    "import os\n",
    "import sys\n",
    "\n",
    "# ---- 1. 사용자 설정 부분---\n",
    "# QGIS 경로 설정\n",
    "QGIS_INSTALL_PATH = 'C:/Program Files/QGIS 3.16.10'\n",
    "\n",
    "# 처리할 원본 GoTIFF 파일 경로\n",
    "INPUT_GEOTIFF_PATH = 'data/GJW1_01_250219_BNVI.tif'\n",
    "\n",
    "# 결과 PNG 파일이 저장될 경로\n",
    "OUTPUT_PNG_PATH = 'result/GJW1_01_250219_BNVI.png'\n",
    "\n",
    "print(\"스크립트 실행 시작...\")\n",
    "\n",
    "# --- 2. QGIS 환경 설정 ---\n",
    "# QGIS 라이브러리를 파이썬이 찾을 수 있도록 경로를 설정\n",
    "sys.path.append(os.path.join(QGIS_INSTALL_PATH, 'apps/qgis-ltr/python'))\n",
    "sys.path.append(os.path.join(QGIS_INSTALL_PATH, 'apps/qgis-ltr/python/plugins'))\n",
    "\n",
    "os.environ['QT_QPA_PLATFORM_PLUGIN_PATH'] = os.path.join(QGIS_INSTALL_PATH, 'apps/Qt5/plugins')\n",
    "os.environ['QT_PLUGIN_PATH'] = os.path.join(QGIS_INSTALL_PATH, 'apps/qgis-ltr/qtplugins')\n",
    "\n",
    "print('환경설정 완료')"
   ],
   "outputs": [
    {
     "name": "stdout",
     "output_type": "stream",
     "text": [
      "스크립트 실행 시작...\n",
      "환경설정 완료\n"
     ]
    }
   ],
   "execution_count": 14
  },
  {
   "metadata": {
    "ExecuteTime": {
     "end_time": "2025-09-06T14:23:38.473787Z",
     "start_time": "2025-09-06T14:23:38.424280Z"
    }
   },
   "cell_type": "code",
   "source": [
    "from qgis.core import (\n",
    "    QgsApplication,\n",
    "    QgsProject,\n",
    "    QgsRasterLayer,\n",
    "    QgsSingleBandPseudoColorRenderer,\n",
    "    QgsColorRampShader,\n",
    "    QgsPrintLayout,\n",
    "    QgsLayoutItemMap,\n",
    "    QgsLayoutExporter,\n",
    "    QgsRectangle\n",
    ")\n",
    "from PyQt5.QtGui import QColor\n",
    "from PyQt5.QtCore import QSize"
   ],
   "id": "5bf566aa8b415daa",
   "outputs": [
    {
     "ename": "ModuleNotFoundError",
     "evalue": "No module named 'PyQt5.QtCore'",
     "output_type": "error",
     "traceback": [
      "\u001B[31m---------------------------------------------------------------------------\u001B[39m",
      "\u001B[31mModuleNotFoundError\u001B[39m                       Traceback (most recent call last)",
      "\u001B[36mCell\u001B[39m\u001B[36m \u001B[39m\u001B[32mIn[15]\u001B[39m\u001B[32m, line 1\u001B[39m\n\u001B[32m----> \u001B[39m\u001B[32m1\u001B[39m \u001B[38;5;28;01mfrom\u001B[39;00m\u001B[38;5;250m \u001B[39m\u001B[34;01mqgis\u001B[39;00m\u001B[34;01m.\u001B[39;00m\u001B[34;01mcore\u001B[39;00m\u001B[38;5;250m \u001B[39m\u001B[38;5;28;01mimport\u001B[39;00m (\n\u001B[32m      2\u001B[39m     QgsApplication,\n\u001B[32m      3\u001B[39m     QgsProject,\n\u001B[32m      4\u001B[39m     QgsRasterLayer,\n\u001B[32m      5\u001B[39m     QgsSingleBandPseudoColorRenderer,\n\u001B[32m      6\u001B[39m     QgsColorRampShader,\n\u001B[32m      7\u001B[39m     QgsPrintLayout,\n\u001B[32m      8\u001B[39m     QgsLayoutItemMap,\n\u001B[32m      9\u001B[39m     QgsLayoutExporter,\n\u001B[32m     10\u001B[39m     QgsRectangle\n\u001B[32m     11\u001B[39m )\n\u001B[32m     12\u001B[39m \u001B[38;5;28;01mfrom\u001B[39;00m\u001B[38;5;250m \u001B[39m\u001B[34;01mPyQt5\u001B[39;00m\u001B[34;01m.\u001B[39;00m\u001B[34;01mQtGui\u001B[39;00m\u001B[38;5;250m \u001B[39m\u001B[38;5;28;01mimport\u001B[39;00m QColor\n\u001B[32m     13\u001B[39m \u001B[38;5;28;01mfrom\u001B[39;00m\u001B[38;5;250m \u001B[39m\u001B[34;01mPyQt5\u001B[39;00m\u001B[34;01m.\u001B[39;00m\u001B[34;01mQtCore\u001B[39;00m\u001B[38;5;250m \u001B[39m\u001B[38;5;28;01mimport\u001B[39;00m QSize\n",
      "\u001B[36mFile \u001B[39m\u001B[32mC:\\Program Files/QGIS 3.16.10\\apps/qgis-ltr/python\\qgis\\__init__.py:78\u001B[39m\n\u001B[32m     75\u001B[39m             \u001B[38;5;28;01mif\u001B[39;00m os.path.exists(p):\n\u001B[32m     76\u001B[39m                 os.add_dll_directory(p)\n\u001B[32m---> \u001B[39m\u001B[32m78\u001B[39m \u001B[38;5;28;01mfrom\u001B[39;00m\u001B[38;5;250m \u001B[39m\u001B[34;01mqgis\u001B[39;00m\u001B[34;01m.\u001B[39;00m\u001B[34;01mPyQt\u001B[39;00m\u001B[38;5;250m \u001B[39m\u001B[38;5;28;01mimport\u001B[39;00m QtCore\n\u001B[32m     80\u001B[39m \u001B[38;5;66;03m# monkey patching custom widgets in case we are running on a local install\u001B[39;00m\n\u001B[32m     81\u001B[39m \u001B[38;5;66;03m# this should fix import errors such as \"ModuleNotFoundError: No module named qgsfilewidget\"\u001B[39;00m\n\u001B[32m     82\u001B[39m \u001B[38;5;66;03m# (\"from qgsfilewidget import QgsFileWidget\")\u001B[39;00m\n\u001B[32m     83\u001B[39m \u001B[38;5;66;03m# In a complete install, this is normally avoided and rather imports \"qgis.gui\"\u001B[39;00m\n\u001B[32m     84\u001B[39m \u001B[38;5;66;03m# (thanks to uic/widget-plugins/qgis_customwidgets.py)\u001B[39;00m\n\u001B[32m     85\u001B[39m \u001B[38;5;28;01mtry\u001B[39;00m:\n",
      "\u001B[36mFile \u001B[39m\u001B[32mC:\\Program Files/QGIS 3.16.10\\apps/qgis-ltr/python\\qgis\\PyQt\\QtCore.py:24\u001B[39m\n\u001B[32m     21\u001B[39m __date__ = \u001B[33m'\u001B[39m\u001B[33mNovember 2015\u001B[39m\u001B[33m'\u001B[39m\n\u001B[32m     22\u001B[39m __copyright__ = \u001B[33m'\u001B[39m\u001B[33m(C) 2015, Matthias Kuhn\u001B[39m\u001B[33m'\u001B[39m\n\u001B[32m---> \u001B[39m\u001B[32m24\u001B[39m \u001B[38;5;28;01mfrom\u001B[39;00m\u001B[38;5;250m \u001B[39m\u001B[34;01mPyQt5\u001B[39;00m\u001B[34;01m.\u001B[39;00m\u001B[34;01mQtCore\u001B[39;00m\u001B[38;5;250m \u001B[39m\u001B[38;5;28;01mimport\u001B[39;00m *\n\u001B[32m     26\u001B[39m \u001B[38;5;28;01mfrom\u001B[39;00m\u001B[38;5;250m \u001B[39m\u001B[34;01mtypes\u001B[39;00m\u001B[38;5;250m \u001B[39m\u001B[38;5;28;01mimport\u001B[39;00m MethodType\n\u001B[32m     29\u001B[39m _QVariant__repr__ = QVariant.\u001B[34m__repr__\u001B[39m\n",
      "\u001B[31mModuleNotFoundError\u001B[39m: No module named 'PyQt5.QtCore'"
     ]
    }
   ],
   "execution_count": 15
  }
 ],
 "metadata": {
  "kernelspec": {
   "display_name": "Python 3",
   "language": "python",
   "name": "python3"
  },
  "language_info": {
   "codemirror_mode": {
    "name": "ipython",
    "version": 2
   },
   "file_extension": ".py",
   "mimetype": "text/x-python",
   "name": "python",
   "nbconvert_exporter": "python",
   "pygments_lexer": "ipython2",
   "version": "2.7.6"
  }
 },
 "nbformat": 4,
 "nbformat_minor": 5
}
